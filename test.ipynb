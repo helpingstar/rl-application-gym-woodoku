{
 "cells": [
  {
   "cell_type": "code",
   "execution_count": 1,
   "metadata": {},
   "outputs": [],
   "source": [
    "import torch"
   ]
  },
  {
   "cell_type": "code",
   "execution_count": 2,
   "metadata": {},
   "outputs": [],
   "source": [
    "a = torch.rand(5, 5)\n",
    "b = torch.rand(5, 1)"
   ]
  },
  {
   "cell_type": "code",
   "execution_count": 5,
   "metadata": {},
   "outputs": [
    {
     "data": {
      "text/plain": [
       "tensor([[0.6142, 0.9315, 0.2096, 0.4850, 0.1432, 0.8230],\n",
       "        [0.5355, 0.9109, 0.0695, 0.3881, 0.5757, 0.6521],\n",
       "        [0.9049, 0.0822, 0.2427, 0.8185, 0.1664, 0.9269],\n",
       "        [0.4349, 0.4387, 0.1240, 0.8612, 0.9469, 0.2111],\n",
       "        [0.4718, 0.4542, 0.2574, 0.0112, 0.4031, 0.8633]])"
      ]
     },
     "execution_count": 5,
     "metadata": {},
     "output_type": "execute_result"
    }
   ],
   "source": [
    "torch.cat([a, b], dim=1)"
   ]
  },
  {
   "cell_type": "code",
   "execution_count": 7,
   "metadata": {},
   "outputs": [
    {
     "data": {
      "text/plain": [
       "tensor([[0.6142, 0.9315, 0.2096, 0.4850, 0.1432, 0.8230],\n",
       "        [0.5355, 0.9109, 0.0695, 0.3881, 0.5757, 0.6521],\n",
       "        [0.9049, 0.0822, 0.2427, 0.8185, 0.1664, 0.9269],\n",
       "        [0.4349, 0.4387, 0.1240, 0.8612, 0.9469, 0.2111],\n",
       "        [0.4718, 0.4542, 0.2574, 0.0112, 0.4031, 0.8633]])"
      ]
     },
     "execution_count": 7,
     "metadata": {},
     "output_type": "execute_result"
    }
   ],
   "source": [
    "torch.concatenate([a, b], dim=1)"
   ]
  },
  {
   "cell_type": "code",
   "execution_count": null,
   "metadata": {},
   "outputs": [],
   "source": []
  }
 ],
 "metadata": {
  "kernelspec": {
   "display_name": "Python 3",
   "language": "python",
   "name": "python3"
  },
  "language_info": {
   "codemirror_mode": {
    "name": "ipython",
    "version": 3
   },
   "file_extension": ".py",
   "mimetype": "text/x-python",
   "name": "python",
   "nbconvert_exporter": "python",
   "pygments_lexer": "ipython3",
   "version": "3.10.4"
  }
 },
 "nbformat": 4,
 "nbformat_minor": 2
}
